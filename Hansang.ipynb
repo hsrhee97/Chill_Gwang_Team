{
 "cells": [
  {
   "cell_type": "code",
   "execution_count": null,
   "id": "15bb783b",
   "metadata": {},
   "outputs": [],
   "source": [
    "!pip install geopandas"
   ]
  },
  {
   "cell_type": "code",
   "execution_count": null,
   "id": "dddc6406",
   "metadata": {},
   "outputs": [],
   "source": [
    "!pip install folium"
   ]
  },
  {
   "cell_type": "markdown",
   "id": "c16cf102",
   "metadata": {},
   "source": [
    "### 어린이집 데이터 불러오기"
   ]
  },
  {
   "cell_type": "code",
   "execution_count": 24,
   "id": "88d4c842",
   "metadata": {},
   "outputs": [],
   "source": [
    "# [1] 필요한 라이브러리 불러오기\n",
    "import pandas as pd\n",
    "\n",
    "# [2] CSV 파일 경로 지정\n",
    "file_path = r\"Data\\서울시 어린이집 정보(표준 데이터).csv\"\n",
    "\n",
    "# [3] CSV 파일 불러오기 (인코딩 지정!)\n",
    "df = pd.read_csv(file_path, encoding='cp949')\n",
    "\n"
   ]
  },
  {
   "cell_type": "markdown",
   "id": "73ae3d0f",
   "metadata": {},
   "source": [
    "### 광진구 운영중인 어린이집"
   ]
  },
  {
   "cell_type": "code",
   "execution_count": null,
   "id": "7cc71f90",
   "metadata": {},
   "outputs": [
    {
     "data": {
      "text/html": [
       "<div>\n",
       "<style scoped>\n",
       "    .dataframe tbody tr th:only-of-type {\n",
       "        vertical-align: middle;\n",
       "    }\n",
       "\n",
       "    .dataframe tbody tr th {\n",
       "        vertical-align: top;\n",
       "    }\n",
       "\n",
       "    .dataframe thead th {\n",
       "        text-align: right;\n",
       "    }\n",
       "</style>\n",
       "<table border=\"1\" class=\"dataframe\">\n",
       "  <thead>\n",
       "    <tr style=\"text-align: right;\">\n",
       "      <th></th>\n",
       "      <th>어린이집명</th>\n",
       "      <th>어린이집유형</th>\n",
       "      <th>운영현황</th>\n",
       "      <th>제공서비스</th>\n",
       "      <th>시설 위도(좌표값)</th>\n",
       "      <th>시설 경도(좌표값)</th>\n",
       "      <th>상세주소</th>\n",
       "      <th>전화번호</th>\n",
       "      <th>홈페이지주소</th>\n",
       "      <th>정원</th>\n",
       "      <th>현원</th>\n",
       "      <th>보육교직원수</th>\n",
       "      <th>보육실수</th>\n",
       "      <th>보육실 면적</th>\n",
       "      <th>놀이터수</th>\n",
       "      <th>CCTV총설치수</th>\n",
       "      <th>통학차량운영여부</th>\n",
       "    </tr>\n",
       "  </thead>\n",
       "  <tbody>\n",
       "    <tr>\n",
       "      <th>2</th>\n",
       "      <td>구립 자양이스트폴어린이집</td>\n",
       "      <td>국공립</td>\n",
       "      <td>정상</td>\n",
       "      <td>장애아통합</td>\n",
       "      <td>37.534656</td>\n",
       "      <td>127.088955</td>\n",
       "      <td>서울특별시 광진구 뚝섬로 717 구립 자양이스트폴어린이집</td>\n",
       "      <td>02-450-7547</td>\n",
       "      <td>NaN</td>\n",
       "      <td>98</td>\n",
       "      <td>0</td>\n",
       "      <td>2</td>\n",
       "      <td>9</td>\n",
       "      <td>793.0</td>\n",
       "      <td>1</td>\n",
       "      <td>0</td>\n",
       "      <td>NaN</td>\n",
       "    </tr>\n",
       "    <tr>\n",
       "      <th>13</th>\n",
       "      <td>구립 해달별어린이집</td>\n",
       "      <td>국공립</td>\n",
       "      <td>정상</td>\n",
       "      <td>일반</td>\n",
       "      <td>37.536761</td>\n",
       "      <td>127.090969</td>\n",
       "      <td>서울특별시 광진구 구의강변로3가길 39 701동 102호</td>\n",
       "      <td>02-455-7516</td>\n",
       "      <td>NaN</td>\n",
       "      <td>19</td>\n",
       "      <td>19</td>\n",
       "      <td>8</td>\n",
       "      <td>4</td>\n",
       "      <td>85.0</td>\n",
       "      <td>1</td>\n",
       "      <td>4</td>\n",
       "      <td>NaN</td>\n",
       "    </tr>\n",
       "    <tr>\n",
       "      <th>85</th>\n",
       "      <td>구립 새벽어린이집</td>\n",
       "      <td>국공립</td>\n",
       "      <td>정상</td>\n",
       "      <td>일반</td>\n",
       "      <td>37.555663</td>\n",
       "      <td>127.092531</td>\n",
       "      <td>서울특별시 광진구 영화사로 53 1층</td>\n",
       "      <td>02-458-5279</td>\n",
       "      <td>NaN</td>\n",
       "      <td>21</td>\n",
       "      <td>20</td>\n",
       "      <td>9</td>\n",
       "      <td>3</td>\n",
       "      <td>74.0</td>\n",
       "      <td>0</td>\n",
       "      <td>6</td>\n",
       "      <td>미운영</td>\n",
       "    </tr>\n",
       "    <tr>\n",
       "      <th>113</th>\n",
       "      <td>구립 자양롯데캐슬어린이집</td>\n",
       "      <td>국공립</td>\n",
       "      <td>정상</td>\n",
       "      <td>일반</td>\n",
       "      <td>37.537441</td>\n",
       "      <td>127.063639</td>\n",
       "      <td>서울특별시 광진구 뚝섬로 467</td>\n",
       "      <td>02-6082-0467</td>\n",
       "      <td>NaN</td>\n",
       "      <td>50</td>\n",
       "      <td>47</td>\n",
       "      <td>13</td>\n",
       "      <td>5</td>\n",
       "      <td>252.0</td>\n",
       "      <td>3</td>\n",
       "      <td>9</td>\n",
       "      <td>미운영</td>\n",
       "    </tr>\n",
       "    <tr>\n",
       "      <th>217</th>\n",
       "      <td>구립 광진그랜드파크어린이집</td>\n",
       "      <td>국공립</td>\n",
       "      <td>정상</td>\n",
       "      <td>일반</td>\n",
       "      <td>37.543706</td>\n",
       "      <td>127.081234</td>\n",
       "      <td>서울특별시 광진구 광나루로 458 어린이집</td>\n",
       "      <td>02-469-1956</td>\n",
       "      <td>NaN</td>\n",
       "      <td>57</td>\n",
       "      <td>37</td>\n",
       "      <td>11</td>\n",
       "      <td>5</td>\n",
       "      <td>176.0</td>\n",
       "      <td>1</td>\n",
       "      <td>15</td>\n",
       "      <td>미운영</td>\n",
       "    </tr>\n",
       "  </tbody>\n",
       "</table>\n",
       "</div>"
      ],
      "text/plain": [
       "              어린이집명 어린이집유형 운영현황  제공서비스  시설 위도(좌표값)  시설 경도(좌표값)  \\\n",
       "2     구립 자양이스트폴어린이집    국공립   정상  장애아통합   37.534656  127.088955   \n",
       "13       구립 해달별어린이집    국공립   정상     일반   37.536761  127.090969   \n",
       "85        구립 새벽어린이집    국공립   정상     일반   37.555663  127.092531   \n",
       "113   구립 자양롯데캐슬어린이집    국공립   정상     일반   37.537441  127.063639   \n",
       "217  구립 광진그랜드파크어린이집    국공립   정상     일반   37.543706  127.081234   \n",
       "\n",
       "                                상세주소          전화번호 홈페이지주소  정원  현원  보육교직원수  \\\n",
       "2    서울특별시 광진구 뚝섬로 717 구립 자양이스트폴어린이집   02-450-7547    NaN  98   0       2   \n",
       "13   서울특별시 광진구 구의강변로3가길 39 701동 102호   02-455-7516    NaN  19  19       8   \n",
       "85              서울특별시 광진구 영화사로 53 1층   02-458-5279    NaN  21  20       9   \n",
       "113                서울특별시 광진구 뚝섬로 467  02-6082-0467    NaN  50  47      13   \n",
       "217          서울특별시 광진구 광나루로 458 어린이집   02-469-1956    NaN  57  37      11   \n",
       "\n",
       "     보육실수  보육실 면적  놀이터수  CCTV총설치수 통학차량운영여부  \n",
       "2       9   793.0     1         0      NaN  \n",
       "13      4    85.0     1         4      NaN  \n",
       "85      3    74.0     0         6      미운영  \n",
       "113     5   252.0     3         9      미운영  \n",
       "217     5   176.0     1        15      미운영  "
      ]
     },
     "execution_count": 25,
     "metadata": {},
     "output_type": "execute_result"
    }
   ],
   "source": [
    "# 필터링 조건 적용\n",
    "df_filtered = df[\n",
    "    (df['시군구명'] == '광진구') &\n",
    "    (df['운영현황'] == '정상') &\n",
    "    (df['시설 위도(좌표값)'].notnull()) &\n",
    "    (df['시설 경도(좌표값)'].notnull())\n",
    "]\n",
    "\n",
    "# 저장할 컬럼만 추출\n",
    "columns_to_save = [\n",
    "    '어린이집명', '어린이집유형', '운영현황', '제공서비스',\n",
    "    '시설 위도(좌표값)', '시설 경도(좌표값)', '상세주소',\n",
    "    '전화번호', '홈페이지주소',\n",
    "    '정원', '현원', '보육교직원수', '보육실수', '보육실 면적',\n",
    "    '놀이터수', 'CCTV총설치수', '통학차량운영여부'\n",
    "]\n",
    "\n",
    "df_result = df_filtered[columns_to_save]"
   ]
  },
  {
   "cell_type": "code",
   "execution_count": 33,
   "id": "6e1d1559",
   "metadata": {},
   "outputs": [
    {
     "name": "stderr",
     "output_type": "stream",
     "text": [
      "C:\\Users\\hsrhe\\AppData\\Local\\Temp\\ipykernel_26192\\2225297131.py:1: UserWarning: Boolean Series key will be reindexed to match DataFrame index.\n",
      "  df_active = df_result[\n"
     ]
    }
   ],
   "source": [
    "df_active = df_result[\n",
    "    (df['운영현황'] == '정상') &\n",
    "    (df['현원'] > 0)\n",
    "]\n",
    "len(df_active)\n",
    "df_active.to_csv(\"Data\\광진구_실제운영중_어린이집.csv\", index=False, encoding='utf-8-sig')\n"
   ]
  },
  {
   "cell_type": "code",
   "execution_count": 7,
   "id": "f98d8bbd",
   "metadata": {},
   "outputs": [
    {
     "data": {
      "text/plain": [
       "298"
      ]
     },
     "execution_count": 7,
     "metadata": {},
     "output_type": "execute_result"
    }
   ],
   "source": [
    "len(filtered_names)"
   ]
  },
  {
   "cell_type": "code",
   "execution_count": 16,
   "id": "1fa64600",
   "metadata": {},
   "outputs": [],
   "source": [
    "import geopandas as gpd\n",
    "import folium\n",
    "import pandas as pd\n",
    "\n",
    "# 시군구 Shapefile (정상 파일)\n",
    "gdf = gpd.read_file(r\"Data\\sig_20230729\\sig.shp\", encoding='euc-kr')\n",
    "\n",
    "# 읍면동 Shapefile (정상 파일)\n",
    "gdf_emd = gpd.read_file(r\"Data\\emd_20230729 (1)\\emd.shp\", encoding='euc-kr')\n"
   ]
  },
  {
   "cell_type": "markdown",
   "id": "d48a1ff8",
   "metadata": {},
   "source": [
    "## 어린이집 유형별 시각화 (운영중인곳만)"
   ]
  },
  {
   "cell_type": "code",
   "execution_count": null,
   "id": "01c95957",
   "metadata": {},
   "outputs": [],
   "source": [
    "import pandas as pd\n",
    "import folium\n",
    "\n",
    "# [1] 데이터 불러오기\n",
    "file_path = r\"Data\\서울시 어린이집 정보(표준 데이터).csv\"\n",
    "df = pd.read_csv(file_path, encoding='cp949')\n",
    "\n",
    "# [2] 운영 중인 어린이집만 필터링\n",
    "df_active = df[df['운영현황'] == '정상']\n",
    "\n",
    "# [3] 유형별 색상 매핑\n",
    "type_color = {\n",
    "    \"국공립\": \"blue\",\n",
    "    \"사회복지법인\": \"green\",\n",
    "    \"민간\": \"orange\",\n",
    "    \"가정\": \"purple\",\n",
    "    \"직장\": \"pink\",\n",
    "    \"협동\": \"gray\",\n",
    "    \"기타\": \"lightgray\"\n",
    "}\n",
    "\n",
    "# [4] 지도 생성\n",
    "m = folium.Map(location=[37.5665, 126.9780], zoom_start=12)\n",
    "\n",
    "# [5] 어린이집 마커 추가 (레이블 없이)\n",
    "for _, row in df_active.iterrows():\n",
    "    lat = row[\"시설 위도(좌표값)\"]\n",
    "    lon = row[\"시설 경도(좌표값)\"]\n",
    "    name = row[\"어린이집명\"]\n",
    "    type_ = str(row[\"어린이집유형\"])\n",
    "    phone = row.get(\"전화번호\", \"\")\n",
    "    color = type_color.get(type_, \"gray\")\n",
    "\n",
    "    if pd.notnull(lat) and pd.notnull(lon):\n",
    "        folium.CircleMarker(\n",
    "            location=[lat, lon],\n",
    "            radius=3,\n",
    "            color=color,\n",
    "            fill=True,\n",
    "            fill_opacity=0.7,\n",
    "            tooltip=f\"{name} ({type_})\\n📞 {phone}\"\n",
    "        ).add_to(m)\n",
    "\n",
    "# [6] 범례 추가 (HTML + CSS)\n",
    "legend_html = '''\n",
    "<div style=\"\n",
    "    position: fixed; \n",
    "    bottom: 50px; left: 50px; width: 160px; height: auto; \n",
    "    border:2px solid grey; z-index:9999; font-size:12px;\n",
    "    background-color: white; padding: 10px; border-radius: 8px;\n",
    "    box-shadow: 2px 2px 6px rgba(0,0,0,0.3);\n",
    "\">\n",
    "<b>어린이집 유형</b><br>\n",
    "<i style=\"background:blue; width:10px; height:10px; display:inline-block;\"></i>&nbsp;국공립<br>\n",
    "<i style=\"background:green; width:10px; height:10px; display:inline-block;\"></i>&nbsp;사회복지법인<br>\n",
    "<i style=\"background:orange; width:10px; height:10px; display:inline-block;\"></i>&nbsp;민간<br>\n",
    "<i style=\"background:purple; width:10px; height:10px; display:inline-block;\"></i>&nbsp;가정<br>\n",
    "<i style=\"background:pink; width:10px; height:10px; display:inline-block;\"></i>&nbsp;직장<br>\n",
    "<i style=\"background:gray; width:10px; height:10px; display:inline-block;\"></i>&nbsp;협동<br>\n",
    "<i style=\"background:lightgray; width:10px; height:10px; display:inline-block;\"></i>&nbsp;기타\n",
    "</div>\n",
    "'''\n",
    "m.get_root().html.add_child(folium.Element(legend_html))\n",
    "\n",
    "# [7] 지도 출력\n",
    "m\n"
   ]
  },
  {
   "cell_type": "markdown",
   "id": "43e0b604",
   "metadata": {},
   "source": [
    "### 광진구 공원 불러오기"
   ]
  },
  {
   "cell_type": "code",
   "execution_count": 23,
   "id": "88d40553",
   "metadata": {},
   "outputs": [],
   "source": [
    "# [1] 필요한 라이브러리 불러오기\n",
    "import pandas as pd\n",
    "\n",
    "# [2] CSV 파일 경로 지정\n",
    "park_file_path = r\"Data\\서울특별시_광진구_도시공원정보_20250310.csv\"\n",
    "\n",
    "# [3] CSV 파일 불러오기 (인코딩 지정!)\n",
    "park_df = pd.read_csv(park_file_path, encoding='utf-8')"
   ]
  },
  {
   "cell_type": "markdown",
   "id": "9c3da41b",
   "metadata": {},
   "source": [
    "## 광진구 청크별로 나누기"
   ]
  },
  {
   "cell_type": "code",
   "execution_count": 42,
   "id": "26f39b82",
   "metadata": {},
   "outputs": [
    {
     "data": {
      "text/plain": [
       "5220"
      ]
     },
     "execution_count": 42,
     "metadata": {},
     "output_type": "execute_result"
    }
   ],
   "source": [
    "# [1] 필요한 라이브러리 불러오기\n",
    "import pandas as pd\n",
    "\n",
    "# [2] CSV 파일 경로 지정\n",
    "house_file_path = r\"Data\\gwangjin_geocoded_partial.csv\"\n",
    "\n",
    "# [3] CSV 파일 불러오기 (인코딩 지정!)\n",
    "house_df = pd.read_csv(house_file_path, encoding='utf-8')\n",
    "\n",
    "house_df.columns\n",
    "house_df_filtered = house_df[house_df['세대수'] > 0]\n",
    "len(house_df_filtered)\n"
   ]
  },
  {
   "cell_type": "code",
   "execution_count": 34,
   "id": "a2e7e406",
   "metadata": {},
   "outputs": [
    {
     "ename": "ValueError",
     "evalue": "Cannot transform naive geometries.  Please set a crs on the object first.",
     "output_type": "error",
     "traceback": [
      "\u001b[1;31m---------------------------------------------------------------------------\u001b[0m",
      "\u001b[1;31mValueError\u001b[0m                                Traceback (most recent call last)",
      "Cell \u001b[1;32mIn[34], line 7\u001b[0m\n\u001b[0;32m      4\u001b[0m gdf_sig \u001b[38;5;241m=\u001b[39m gpd\u001b[38;5;241m.\u001b[39mread_file(\u001b[38;5;124m\"\u001b[39m\u001b[38;5;124mData/sig_20230729/sig.shp\u001b[39m\u001b[38;5;124m\"\u001b[39m, encoding\u001b[38;5;241m=\u001b[39m\u001b[38;5;124m'\u001b[39m\u001b[38;5;124meuc-kr\u001b[39m\u001b[38;5;124m'\u001b[39m)\n\u001b[0;32m      6\u001b[0m \u001b[38;5;66;03m# 광진구만 필터링\u001b[39;00m\n\u001b[1;32m----> 7\u001b[0m gwangjin \u001b[38;5;241m=\u001b[39m gdf_sig[gdf_sig[\u001b[38;5;124m'\u001b[39m\u001b[38;5;124mSIG_KOR_NM\u001b[39m\u001b[38;5;124m'\u001b[39m] \u001b[38;5;241m==\u001b[39m \u001b[38;5;124m'\u001b[39m\u001b[38;5;124m광진구\u001b[39m\u001b[38;5;124m'\u001b[39m]\u001b[38;5;241m.\u001b[39mto_crs(epsg\u001b[38;5;241m=\u001b[39m\u001b[38;5;241m5181\u001b[39m)\n",
      "File \u001b[1;32mc:\\Users\\hsrhe\\anaconda3\\Lib\\site-packages\\geopandas\\geodataframe.py:1701\u001b[0m, in \u001b[0;36mGeoDataFrame.to_crs\u001b[1;34m(self, crs, epsg, inplace)\u001b[0m\n\u001b[0;32m   1699\u001b[0m \u001b[38;5;28;01melse\u001b[39;00m:\n\u001b[0;32m   1700\u001b[0m     df \u001b[38;5;241m=\u001b[39m \u001b[38;5;28mself\u001b[39m\u001b[38;5;241m.\u001b[39mcopy()\n\u001b[1;32m-> 1701\u001b[0m geom \u001b[38;5;241m=\u001b[39m df\u001b[38;5;241m.\u001b[39mgeometry\u001b[38;5;241m.\u001b[39mto_crs(crs\u001b[38;5;241m=\u001b[39mcrs, epsg\u001b[38;5;241m=\u001b[39mepsg)\n\u001b[0;32m   1702\u001b[0m df\u001b[38;5;241m.\u001b[39mgeometry \u001b[38;5;241m=\u001b[39m geom\n\u001b[0;32m   1703\u001b[0m \u001b[38;5;28;01mif\u001b[39;00m \u001b[38;5;129;01mnot\u001b[39;00m inplace:\n",
      "File \u001b[1;32mc:\\Users\\hsrhe\\anaconda3\\Lib\\site-packages\\geopandas\\geoseries.py:1207\u001b[0m, in \u001b[0;36mGeoSeries.to_crs\u001b[1;34m(self, crs, epsg)\u001b[0m\n\u001b[0;32m   1128\u001b[0m \u001b[38;5;28;01mdef\u001b[39;00m \u001b[38;5;21mto_crs\u001b[39m(\n\u001b[0;32m   1129\u001b[0m     \u001b[38;5;28mself\u001b[39m, crs: Optional[Any] \u001b[38;5;241m=\u001b[39m \u001b[38;5;28;01mNone\u001b[39;00m, epsg: Optional[\u001b[38;5;28mint\u001b[39m] \u001b[38;5;241m=\u001b[39m \u001b[38;5;28;01mNone\u001b[39;00m\n\u001b[0;32m   1130\u001b[0m ) \u001b[38;5;241m-\u001b[39m\u001b[38;5;241m>\u001b[39m GeoSeries:\n\u001b[0;32m   1131\u001b[0m \u001b[38;5;250m    \u001b[39m\u001b[38;5;124;03m\"\"\"Returns a ``GeoSeries`` with all geometries transformed to a new\u001b[39;00m\n\u001b[0;32m   1132\u001b[0m \u001b[38;5;124;03m    coordinate reference system.\u001b[39;00m\n\u001b[0;32m   1133\u001b[0m \n\u001b[1;32m   (...)\u001b[0m\n\u001b[0;32m   1204\u001b[0m \n\u001b[0;32m   1205\u001b[0m \u001b[38;5;124;03m    \"\"\"\u001b[39;00m\n\u001b[0;32m   1206\u001b[0m     \u001b[38;5;28;01mreturn\u001b[39;00m GeoSeries(\n\u001b[1;32m-> 1207\u001b[0m         \u001b[38;5;28mself\u001b[39m\u001b[38;5;241m.\u001b[39mvalues\u001b[38;5;241m.\u001b[39mto_crs(crs\u001b[38;5;241m=\u001b[39mcrs, epsg\u001b[38;5;241m=\u001b[39mepsg), index\u001b[38;5;241m=\u001b[39m\u001b[38;5;28mself\u001b[39m\u001b[38;5;241m.\u001b[39mindex, name\u001b[38;5;241m=\u001b[39m\u001b[38;5;28mself\u001b[39m\u001b[38;5;241m.\u001b[39mname\n\u001b[0;32m   1208\u001b[0m     )\n",
      "File \u001b[1;32mc:\\Users\\hsrhe\\anaconda3\\Lib\\site-packages\\geopandas\\_compat.py:90\u001b[0m, in \u001b[0;36mrequires_pyproj.<locals>.wrapper\u001b[1;34m(*args, **kwargs)\u001b[0m\n\u001b[0;32m     84\u001b[0m \u001b[38;5;28;01mif\u001b[39;00m \u001b[38;5;129;01mnot\u001b[39;00m HAS_PYPROJ:\n\u001b[0;32m     85\u001b[0m     \u001b[38;5;28;01mraise\u001b[39;00m \u001b[38;5;167;01mImportError\u001b[39;00m(\n\u001b[0;32m     86\u001b[0m         \u001b[38;5;124mf\u001b[39m\u001b[38;5;124m\"\u001b[39m\u001b[38;5;124mThe \u001b[39m\u001b[38;5;124m'\u001b[39m\u001b[38;5;124mpyproj\u001b[39m\u001b[38;5;124m'\u001b[39m\u001b[38;5;124m package is required for \u001b[39m\u001b[38;5;132;01m{\u001b[39;00mfunc\u001b[38;5;241m.\u001b[39m\u001b[38;5;18m__name__\u001b[39m\u001b[38;5;132;01m}\u001b[39;00m\u001b[38;5;124m to work. \u001b[39m\u001b[38;5;124m\"\u001b[39m\n\u001b[0;32m     87\u001b[0m         \u001b[38;5;124m\"\u001b[39m\u001b[38;5;124mInstall it and initialize the object with a CRS before using it.\u001b[39m\u001b[38;5;124m\"\u001b[39m\n\u001b[0;32m     88\u001b[0m         \u001b[38;5;124mf\u001b[39m\u001b[38;5;124m\"\u001b[39m\u001b[38;5;130;01m\\n\u001b[39;00m\u001b[38;5;124mImporting pyproj resulted in: \u001b[39m\u001b[38;5;132;01m{\u001b[39;00mpyproj_import_error\u001b[38;5;132;01m}\u001b[39;00m\u001b[38;5;124m\"\u001b[39m\n\u001b[0;32m     89\u001b[0m     )\n\u001b[1;32m---> 90\u001b[0m \u001b[38;5;28;01mreturn\u001b[39;00m func(\u001b[38;5;241m*\u001b[39margs, \u001b[38;5;241m*\u001b[39m\u001b[38;5;241m*\u001b[39mkwargs)\n",
      "File \u001b[1;32mc:\\Users\\hsrhe\\anaconda3\\Lib\\site-packages\\geopandas\\array.py:1002\u001b[0m, in \u001b[0;36mGeometryArray.to_crs\u001b[1;34m(self, crs, epsg)\u001b[0m\n\u001b[0;32m    999\u001b[0m \u001b[38;5;28;01mfrom\u001b[39;00m \u001b[38;5;21;01mpyproj\u001b[39;00m \u001b[38;5;28;01mimport\u001b[39;00m CRS\n\u001b[0;32m   1001\u001b[0m \u001b[38;5;28;01mif\u001b[39;00m \u001b[38;5;28mself\u001b[39m\u001b[38;5;241m.\u001b[39mcrs \u001b[38;5;129;01mis\u001b[39;00m \u001b[38;5;28;01mNone\u001b[39;00m:\n\u001b[1;32m-> 1002\u001b[0m     \u001b[38;5;28;01mraise\u001b[39;00m \u001b[38;5;167;01mValueError\u001b[39;00m(\n\u001b[0;32m   1003\u001b[0m         \u001b[38;5;124m\"\u001b[39m\u001b[38;5;124mCannot transform naive geometries.  \u001b[39m\u001b[38;5;124m\"\u001b[39m\n\u001b[0;32m   1004\u001b[0m         \u001b[38;5;124m\"\u001b[39m\u001b[38;5;124mPlease set a crs on the object first.\u001b[39m\u001b[38;5;124m\"\u001b[39m\n\u001b[0;32m   1005\u001b[0m     )\n\u001b[0;32m   1006\u001b[0m \u001b[38;5;28;01mif\u001b[39;00m crs \u001b[38;5;129;01mis\u001b[39;00m \u001b[38;5;129;01mnot\u001b[39;00m \u001b[38;5;28;01mNone\u001b[39;00m:\n\u001b[0;32m   1007\u001b[0m     crs \u001b[38;5;241m=\u001b[39m CRS\u001b[38;5;241m.\u001b[39mfrom_user_input(crs)\n",
      "\u001b[1;31mValueError\u001b[0m: Cannot transform naive geometries.  Please set a crs on the object first."
     ]
    }
   ],
   "source": [
    "import geopandas as gpd\n",
    "\n",
    "# 시군구 Shapefile 불러오기 (예: sig.shp)\n",
    "gdf_sig = gpd.read_file(\"Data/sig_20230729/sig.shp\", encoding='euc-kr')\n",
    "\n",
    "# 광진구만 필터링\n",
    "gwangjin = gdf_sig[gdf_sig['SIG_KOR_NM'] == '광진구'].to_crs(epsg=5181)  # 미터 단위\n"
   ]
  },
  {
   "cell_type": "markdown",
   "id": "81bf74f8",
   "metadata": {},
   "source": []
  }
 ],
 "metadata": {
  "kernelspec": {
   "display_name": "base",
   "language": "python",
   "name": "python3"
  },
  "language_info": {
   "codemirror_mode": {
    "name": "ipython",
    "version": 3
   },
   "file_extension": ".py",
   "mimetype": "text/x-python",
   "name": "python",
   "nbconvert_exporter": "python",
   "pygments_lexer": "ipython3",
   "version": "3.12.7"
  }
 },
 "nbformat": 4,
 "nbformat_minor": 5
}
